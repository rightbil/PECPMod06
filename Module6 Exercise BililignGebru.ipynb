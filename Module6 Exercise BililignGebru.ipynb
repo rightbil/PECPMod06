{
 "cells": [
  {
   "cell_type": "markdown",
   "metadata": {},
   "source": [
    "### Exercise 1\n",
    "Convert following decimal number to a binary number by hand:\n",
    "\n",
    "    61\n",
    "    15\n",
    "    71\n",
    "    "
   ]
  },
  {
   "cell_type": "code",
   "execution_count": 1,
   "metadata": {},
   "outputs": [
    {
     "data": {
      "text/plain": [
       "(111101, 1111, 1000111)"
      ]
     },
     "execution_count": 1,
     "metadata": {},
     "output_type": "execute_result"
    }
   ],
   "source": [
    "111101 , 1111, 1000111"
   ]
  },
  {
   "cell_type": "markdown",
   "metadata": {},
   "source": [
    "### Exercise 2\n",
    "When a = 61 and b = 15, what is the result of following bitwise opertion? Use inline comments to show your result in a binary number. Find your answer by hand.\n",
    "\n",
    "    a & b\n",
    "    a | b\n",
    "    a ^ b\n",
    "    a >> 2\n",
    "    "
   ]
  },
  {
   "cell_type": "code",
   "execution_count": 7,
   "metadata": {},
   "outputs": [
    {
     "name": "stdout",
     "output_type": "stream",
     "text": [
      "a & b>> 13\n",
      "a | b>> 63\n",
      "a ^ b>> 50\n",
      "a >>2>> 15\n"
     ]
    }
   ],
   "source": [
    "# convert a in to a binary number\n",
    "a=0b111101\n",
    "          \n",
    "# convert b in to a binary number\n",
    "\n",
    "b=0b001111"
   ]
  },
  {
   "cell_type": "code",
   "execution_count": null,
   "metadata": {},
   "outputs": [],
   "source": [
    "# a & b\n",
    "print(\"a & b>>\",a & b)"
   ]
  },
  {
   "cell_type": "code",
   "execution_count": null,
   "metadata": {},
   "outputs": [],
   "source": [
    "# a | b\n",
    "print(\"a | b>>\",a | b)"
   ]
  },
  {
   "cell_type": "code",
   "execution_count": null,
   "metadata": {},
   "outputs": [],
   "source": [
    "# a ^ b\n",
    "print(\"a ^ b>>\",a ^ b)"
   ]
  },
  {
   "cell_type": "code",
   "execution_count": null,
   "metadata": {},
   "outputs": [],
   "source": [
    "# a >> 2\n",
    "print(\"a >>2>>\",a >> 2)"
   ]
  },
  {
   "cell_type": "markdown",
   "metadata": {},
   "source": [
    "### Exercise 3\n",
    "Ask a user for a code and store that answer. \n",
    "If the answer is <b>grey</b> then print \"You found secret code.\"\n",
    "Otherwise print that the entered code is not the secret code."
   ]
  },
  {
   "cell_type": "code",
   "execution_count": 15,
   "metadata": {},
   "outputs": [
    {
     "name": "stdout",
     "output_type": "stream",
     "text": [
      ">>>jfjf\n",
      "jfjf is not the secret code\n"
     ]
    }
   ],
   "source": [
    "your_guess = input(\">>>\")\n",
    "if your_guess.lower() == \"grey\":\n",
    "    print(\"You found secret code\")\n",
    "else:\n",
    "    print(f\"{your_guess} is not the secret code\")"
   ]
  },
  {
   "cell_type": "markdown",
   "metadata": {},
   "source": [
    "### Exercise 4\n",
    "Ask for an exam score and store that number. If the number is greater than 100, then print out 'You cannot have an exam score higher than 100'. If the number doesn't exceeed 100 but is greater than or equal to 75, then print out 'You did great on your exam!'. Otherwise if they scored lower than 75, then print out 'You need to study harder'."
   ]
  },
  {
   "cell_type": "code",
   "execution_count": 1,
   "metadata": {},
   "outputs": [
    {
     "name": "stdout",
     "output_type": "stream",
     "text": [
      "Enter Exam Score\n",
      ">>>4000\n",
      "You cannot have an exam score higher than 100\n"
     ]
    }
   ],
   "source": [
    "print(\"Enter Exam Score\")\n",
    "exam_score = int(input(\">>>\"))\n",
    "if exam_score > 100:\n",
    "    print(\"You cannot have an exam score higher than 100\")\n",
    "elif exam_score > 75:\n",
    "    print(\"You did great on your exam!\")\n",
    "else:\n",
    "    print(\"'You need to study harder\")"
   ]
  },
  {
   "cell_type": "markdown",
   "metadata": {},
   "source": [
    "### Exercise 5\n",
    "Write a function to convert a test score to a grade where  \n",
    " - 90 - 100: A\n",
    " - 80 - 89:  B\n",
    " - 70 - 79:  C\n",
    " - 60 - 69:  D\n",
    " - < 60   :  F\n",
    " \n",
    "If a score is not between 0 and 100 then print out an error message. In the program, ask the user for a score and then call your function. "
   ]
  },
  {
   "cell_type": "code",
   "execution_count": 22,
   "metadata": {},
   "outputs": [],
   "source": [
    "# define your function\n",
    "def convert_grade(score):\n",
    "    if score > 0 and score <100:\n",
    "        if score >= 90:\n",
    "                print(f\"your score is  {score } and your grade is A\")\n",
    "        elif score >= 80:\n",
    "                print(f\"your score is  {score } and your grade is B\")\n",
    "        elif score > 70:\n",
    "                print(f\"your score is  {score } and your grade is C\")\n",
    "        elif score > 60:\n",
    "                print(f\"your score is  {score } and your grade is D\")\n",
    "        else:\n",
    "                print(f\"your score is  {score } and your grade is F\")\n",
    "    else:\n",
    "        print(f\"{score} must be between 0 and 100\")    \n",
    "    \n",
    "            \n"
   ]
  },
  {
   "cell_type": "code",
   "execution_count": 23,
   "metadata": {},
   "outputs": [
    {
     "name": "stdout",
     "output_type": "stream",
     "text": [
      "Enter your >>\n",
      "78\n",
      "your score is  78 and your grade is C\n"
     ]
    }
   ],
   "source": [
    "# ask the user for a score and then call your function\n",
    "print(\"Enter your >>\")\n",
    "grade = int(input())\n",
    "convert_grade(grade)\n",
    "\n"
   ]
  },
  {
   "cell_type": "code",
   "execution_count": null,
   "metadata": {},
   "outputs": [],
   "source": []
  }
 ],
 "metadata": {
  "kernelspec": {
   "display_name": "Python 3",
   "language": "python",
   "name": "python3"
  },
  "language_info": {
   "codemirror_mode": {
    "name": "ipython",
    "version": 3
   },
   "file_extension": ".py",
   "mimetype": "text/x-python",
   "name": "python",
   "nbconvert_exporter": "python",
   "pygments_lexer": "ipython3",
   "version": "3.8.8"
  }
 },
 "nbformat": 4,
 "nbformat_minor": 4
}
